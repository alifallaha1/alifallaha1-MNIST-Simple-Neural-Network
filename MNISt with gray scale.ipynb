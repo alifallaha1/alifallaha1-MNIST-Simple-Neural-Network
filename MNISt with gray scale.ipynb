{
 "cells": [
  {
   "cell_type": "code",
   "execution_count": 1,
   "id": "4fe4fc83-d111-4858-af1a-c4393cd8787e",
   "metadata": {},
   "outputs": [],
   "source": [
    "import numpy as np\n",
    "import matplotlib.pyplot as plt\n",
    "import seaborn as sns\n",
    "import cv2\n",
    "from PIL import Image\n",
    "import tensorflow as tf\n",
    "from tensorflow import keras\n",
    "from keras.datasets import mnist\n",
    "from tensorflow.math import confusion_matrix\n",
    "tf.random.set_seed(3)"
   ]
  },
  {
   "cell_type": "markdown",
   "id": "b9b69aa3-c23e-4ae6-b623-4f29cb5f92cc",
   "metadata": {},
   "source": [
    "# Loading Data"
   ]
  },
  {
   "cell_type": "code",
   "execution_count": 2,
   "id": "59b4cc23-3ba1-4c23-bf4e-ce697aff3c93",
   "metadata": {},
   "outputs": [],
   "source": [
    "(X_train, Y_train), (X_test, Y_test) =  mnist.load_data()"
   ]
  },
  {
   "cell_type": "code",
   "execution_count": 3,
   "id": "7d85f5d8-8d6f-4e3a-b789-72d9be0816e8",
   "metadata": {},
   "outputs": [
    {
     "name": "stdout",
     "output_type": "stream",
     "text": [
      "(60000, 28, 28) (60000,) (10000, 28, 28) (10000,)\n"
     ]
    }
   ],
   "source": [
    "# shape of the numpy arrays\n",
    "print(X_train.shape, Y_train.shape, X_test.shape, Y_test.shape)\n",
    "# gray scaling images"
   ]
  },
  {
   "cell_type": "code",
   "execution_count": null,
   "id": "bef8fc7c-1e2e-4f02-9026-45d7ceffce07",
   "metadata": {
    "tags": []
   },
   "outputs": [],
   "source": []
  },
  {
   "cell_type": "code",
   "execution_count": 4,
   "id": "49582454-999d-4295-90e9-8ed6c75c61fb",
   "metadata": {},
   "outputs": [
    {
     "data": {
      "image/png": "[encoded data removed]",
      "text/plain": [
       "<Figure size 640x480 with 1 Axes>"
      ]
     },
     "metadata": {},
     "output_type": "display_data"
    },
    {
     "name": "stdout",
     "output_type": "stream",
     "text": [
      "3\n"
     ]
    }
   ],
   "source": [
    "# displaying the image\n",
    "\n",
    "plt.imshow(X_train[10])\n",
    "plt.show()\n",
    "\n",
    "# print the corresponding label\n",
    "print(Y_train[10])"
   ]
  },
  {
   "cell_type": "code",
   "execution_count": null,
   "id": "48edb30b-1b62-4f8c-9a11-ae8567061906",
   "metadata": {},
   "outputs": [],
   "source": []
  },
  {
   "cell_type": "code",
   "execution_count": 5,
   "id": "ea9c182d-c563-45b0-8b96-70d9bab4f727",
   "metadata": {},
   "outputs": [],
   "source": [
    "# scaling the values\n",
    "\n",
    "X_train = X_train/255\n",
    "X_test = X_test/255"
   ]
  },
  {
   "cell_type": "code",
   "execution_count": 6,
   "id": "46064784-e332-4330-a24f-1357bb0a2071",
   "metadata": {
    "tags": []
   },
   "outputs": [],
   "source": [
    "# printing the 10th image\n",
    "\n"
   ]
  },
  {
   "cell_type": "markdown",
   "id": "ae3cba93-db81-46dd-a020-3f5ac515be96",
   "metadata": {},
   "source": [
    "# Building a simple Neural Network"
   ]
  },
  {
   "cell_type": "code",
   "execution_count": 7,
   "id": "8a5700c0-d7c6-4387-9e8e-fab3098d9bdc",
   "metadata": {},
   "outputs": [],
   "source": [
    "# setting up the layers of the Neural  Network\n",
    "\n",
    "model = keras.Sequential([\n",
    "                          keras.layers.Flatten(input_shape=(28,28)),\n",
    "                          keras.layers.Dense(100, activation='relu'),\n",
    "                          keras.layers.Dense(50, activation='relu'),\n",
    "                          keras.layers.Dense(10, activation='sigmoid')\n",
    "])"
   ]
  },
  {
   "cell_type": "code",
   "execution_count": 8,
   "id": "f7b54db3-b14d-46a8-879c-5cb62ca3e973",
   "metadata": {},
   "outputs": [],
   "source": [
    "model.compile(optimizer='adam',\n",
    "              loss = 'sparse_categorical_crossentropy',\n",
    "              metrics=['accuracy'])"
   ]
  },
  {
   "cell_type": "code",
   "execution_count": 9,
   "id": "b98354d8-f626-4fec-b00e-6ee7c09c24e6",
   "metadata": {},
   "outputs": [
    {
     "name": "stdout",
     "output_type": "stream",
     "text": [
      "Epoch 1/20\n",
      "1875/1875 [==============================] - 1s 447us/step - loss: 0.2610 - accuracy: 0.9249\n",
      "Epoch 2/20\n",
      "1875/1875 [==============================] - 1s 442us/step - loss: 0.1161 - accuracy: 0.9648\n",
      "Epoch 3/20\n",
      "1875/1875 [==============================] - 1s 441us/step - loss: 0.0827 - accuracy: 0.9739\n",
      "Epoch 4/20\n",
      "1875/1875 [==============================] - 1s 421us/step - loss: 0.0632 - accuracy: 0.9801\n",
      "Epoch 5/20\n",
      "1875/1875 [==============================] - 1s 455us/step - loss: 0.0495 - accuracy: 0.9841\n",
      "Epoch 6/20\n",
      "1875/1875 [==============================] - 1s 446us/step - loss: 0.0428 - accuracy: 0.9858\n",
      "Epoch 7/20\n",
      "1875/1875 [==============================] - 1s 439us/step - loss: 0.0344 - accuracy: 0.9884\n",
      "Epoch 8/20\n",
      "1875/1875 [==============================] - 1s 443us/step - loss: 0.0291 - accuracy: 0.9905\n",
      "Epoch 9/20\n",
      "1875/1875 [==============================] - 1s 447us/step - loss: 0.0255 - accuracy: 0.9913\n",
      "Epoch 10/20\n",
      "1875/1875 [==============================] - 1s 444us/step - loss: 0.0230 - accuracy: 0.9926\n",
      "Epoch 11/20\n",
      "1875/1875 [==============================] - 1s 445us/step - loss: 0.0196 - accuracy: 0.9934\n",
      "Epoch 12/20\n",
      "1875/1875 [==============================] - 1s 445us/step - loss: 0.0192 - accuracy: 0.9937\n",
      "Epoch 13/20\n",
      "1875/1875 [==============================] - 1s 441us/step - loss: 0.0164 - accuracy: 0.9944\n",
      "Epoch 14/20\n",
      "1875/1875 [==============================] - 1s 445us/step - loss: 0.0137 - accuracy: 0.9952\n",
      "Epoch 15/20\n",
      "1875/1875 [==============================] - 1s 450us/step - loss: 0.0138 - accuracy: 0.9953\n",
      "Epoch 16/20\n",
      "1875/1875 [==============================] - 1s 444us/step - loss: 0.0144 - accuracy: 0.9950\n",
      "Epoch 17/20\n",
      "1875/1875 [==============================] - 1s 446us/step - loss: 0.0130 - accuracy: 0.9954\n",
      "Epoch 18/20\n",
      "1875/1875 [==============================] - 1s 444us/step - loss: 0.0096 - accuracy: 0.9968\n",
      "Epoch 19/20\n",
      "1875/1875 [==============================] - 1s 441us/step - loss: 0.0124 - accuracy: 0.9960\n",
      "Epoch 20/20\n",
      "1875/1875 [==============================] - 1s 446us/step - loss: 0.0098 - accuracy: 0.9967\n"
     ]
    },
    {
     "data": {
      "text/plain": [
       "<keras.src.callbacks.History at 0x165ff5db0>"
      ]
     },
     "execution_count": 9,
     "metadata": {},
     "output_type": "execute_result"
    }
   ],
   "source": [
    "model.fit(X_train, Y_train, epochs=20)"
   ]
  },
  {
   "cell_type": "markdown",
   "id": "3688ecdf-d937-40a8-816d-86fa954eabf5",
   "metadata": {},
   "source": [
    "# Accuracy on Test data:"
   ]
  },
  {
   "cell_type": "code",
   "execution_count": 10,
   "id": "8a767c75-f5a7-482a-abcd-8b0f9c36bc40",
   "metadata": {},
   "outputs": [
    {
     "name": "stdout",
     "output_type": "stream",
     "text": [
      "313/313 [==============================] - 0s 290us/step - loss: 0.1408 - accuracy: 0.9764\n",
      "0.9764000177383423\n"
     ]
    }
   ],
   "source": [
    "loss, accuracy = model.evaluate(X_test, Y_test)\n",
    "print(accuracy)"
   ]
  },
  {
   "cell_type": "code",
   "execution_count": 11,
   "id": "773b85fb-0287-49b4-89db-b8a1e0345d08",
   "metadata": {},
   "outputs": [
    {
     "data": {
      "image/png": "[encoded data removed]",
      "text/plain": [
       "<Figure size 640x480 with 1 Axes>"
      ]
     },
     "metadata": {},
     "output_type": "display_data"
    }
   ],
   "source": [
    "plt.imshow(X_test[7])\n",
    "plt.show()"
   ]
  },
  {
   "cell_type": "code",
   "execution_count": 12,
   "id": "e5814b7c-571e-4804-b255-9b16afb4ad3b",
   "metadata": {},
   "outputs": [
    {
     "name": "stdout",
     "output_type": "stream",
     "text": [
      "9\n"
     ]
    }
   ],
   "source": [
    "print(Y_test[7])"
   ]
  },
  {
   "cell_type": "code",
   "execution_count": 13,
   "id": "c1df7e20-30c8-427e-bdc0-bc89d6d30a25",
   "metadata": {},
   "outputs": [
    {
     "name": "stdout",
     "output_type": "stream",
     "text": [
      "313/313 [==============================] - 0s 286us/step\n"
     ]
    }
   ],
   "source": [
    "Y_pred = model.predict(X_test)"
   ]
  },
  {
   "cell_type": "code",
   "execution_count": 14,
   "id": "a49cfecd-3919-4949-b212-f86562b15616",
   "metadata": {},
   "outputs": [
    {
     "name": "stdout",
     "output_type": "stream",
     "text": [
      "[1.7286448e-09 2.4632259e-08 9.1849259e-05 9.9806118e-01 8.7270403e-01\n",
      " 3.5646847e-03 1.0243263e-10 3.1317185e-04 2.6308155e-07 1.0000000e+00]\n"
     ]
    }
   ],
   "source": [
    "print(Y_pred[7])"
   ]
  },
  {
   "cell_type": "code",
   "execution_count": 15,
   "id": "5fc6e9af-311e-4cc7-8508-214c7ce51b6b",
   "metadata": {},
   "outputs": [
    {
     "name": "stdout",
     "output_type": "stream",
     "text": [
      "9\n"
     ]
    }
   ],
   "source": [
    "# converting the prediction probabilities to class label\n",
    "\n",
    "label = np.argmax(Y_pred[7])\n",
    "print(label)"
   ]
  },
  {
   "cell_type": "code",
   "execution_count": 16,
   "id": "7058952d-4f73-4db8-8311-bd03a167538d",
   "metadata": {
    "tags": []
   },
   "outputs": [],
   "source": [
    "Y_pred_labels = [np.argmax(i) for i in Y_pred]\n"
   ]
  },
  {
   "cell_type": "markdown",
   "id": "89ec77a1-0a52-4183-ae02-5c40227b0f7b",
   "metadata": {},
   "source": [
    "# Confusin Matrix\n"
   ]
  },
  {
   "cell_type": "code",
   "execution_count": 17,
   "id": "10f1a949-d861-4988-9a6a-d32d30c1af70",
   "metadata": {},
   "outputs": [
    {
     "name": "stdout",
     "output_type": "stream",
     "text": [
      "tf.Tensor(\n",
      "[[ 972    2    1    0    0    1    3    0    0    1]\n",
      " [   0 1127    1    1    0    1    2    1    2    0]\n",
      " [   4   14 1005    2    3    0    2    1    1    0]\n",
      " [   1    0   10  985    0    8    0    3    2    1]\n",
      " [   1    1    5    0  963    1    5    0    1    5]\n",
      " [   1    0    0    9    4  870    5    0    3    0]\n",
      " [   3    2    1    1   10    7  933    0    1    0]\n",
      " [   4    3   20   16    6    0    0  968    2    9]\n",
      " [   5    2    4    8   11   12    4    2  922    4]\n",
      " [   2    4    0    5   17    9    0    3    8  961]], shape=(10, 10), dtype=int32)\n"
     ]
    }
   ],
   "source": [
    "conf_mat = confusion_matrix(Y_test, Y_pred_labels)\n",
    "print(conf_mat)"
   ]
  },
  {
   "cell_type": "code",
   "execution_count": 18,
   "id": "7502120a-69cb-40a3-899e-a69a774716e7",
   "metadata": {},
   "outputs": [
    {
     "data": {
      "text/plain": [
       "Text(0.5, 47.7222222222222, 'Predicted Labels')"
      ]
     },
     "execution_count": 18,
     "metadata": {},
     "output_type": "execute_result"
    },
    {
     "data": {
      "image/png": "[encoded data removed]",
      "text/plain": [
       "<Figure size 1500x700 with 2 Axes>"
      ]
     },
     "metadata": {},
     "output_type": "display_data"
    }
   ],
   "source": [
    "plt.figure(figsize=(15,7))\n",
    "sns.heatmap(conf_mat, annot=True, fmt='d', cmap='Blues')\n",
    "plt.ylabel('True Labels')\n",
    "plt.xlabel('Predicted Labels')"
   ]
  },
  {
   "cell_type": "markdown",
   "id": "de05aaef-e960-4637-8d24-729457180898",
   "metadata": {},
   "source": [
    "# Building a Predictive System"
   ]
  },
  {
   "cell_type": "code",
   "execution_count": 19,
   "id": "a9a252d2-dfe6-4a41-a7ba-088a99c38b43",
   "metadata": {},
   "outputs": [],
   "source": [
    "input_image_path = 'test.png'\n",
    "\n",
    "input_image = cv2.imread(input_image_path)"
   ]
  },
  {
   "cell_type": "code",
   "execution_count": 20,
   "id": "e00b52ae-2545-408c-95b2-97690ae4ec58",
   "metadata": {},
   "outputs": [
    {
     "data": {
      "image/png": "[encoded data removed]",
      "text/plain": [
       "<Figure size 640x480 with 1 Axes>"
      ]
     },
     "metadata": {},
     "output_type": "display_data"
    }
   ],
   "source": [
    "plt.imshow(input_image)\n",
    "plt.show()"
   ]
  },
  {
   "cell_type": "code",
   "execution_count": 21,
   "id": "50c5f474-e474-4cd1-9bc9-e00ddb5700ea",
   "metadata": {},
   "outputs": [
    {
     "data": {
      "text/plain": [
       "(318, 318, 3)"
      ]
     },
     "execution_count": 21,
     "metadata": {},
     "output_type": "execute_result"
    }
   ],
   "source": [
    "input_image.shape"
   ]
  },
  {
   "cell_type": "code",
   "execution_count": 22,
   "id": "c7261707-024f-4486-87ab-ff31ca63826a",
   "metadata": {},
   "outputs": [
    {
     "data": {
      "text/plain": [
       "(318, 318)"
      ]
     },
     "execution_count": 22,
     "metadata": {},
     "output_type": "execute_result"
    }
   ],
   "source": [
    "grayscale = cv2.cvtColor(input_image, cv2.COLOR_RGB2GRAY)\n",
    "grayscale.shape"
   ]
  },
  {
   "cell_type": "code",
   "execution_count": 23,
   "id": "f1182ec5-f5d6-4ad7-a498-7133319ad2ab",
   "metadata": {},
   "outputs": [
    {
     "data": {
      "text/plain": [
       "(28, 28)"
      ]
     },
     "execution_count": 23,
     "metadata": {},
     "output_type": "execute_result"
    }
   ],
   "source": [
    "input_image_resize = cv2.resize(grayscale, (28, 28))\n",
    "input_image_resize.shape"
   ]
  },
  {
   "cell_type": "code",
   "execution_count": 24,
   "id": "f533503a-1bb3-4a59-a5b1-8e198ba52aef",
   "metadata": {},
   "outputs": [
    {
     "data": {
      "image/png": "[encoded data removed]",
      "text/plain": [
       "<Figure size 640x480 with 1 Axes>"
      ]
     },
     "metadata": {},
     "output_type": "display_data"
    }
   ],
   "source": [
    "plt.imshow(input_image_resize)\n",
    "plt.show()"
   ]
  },
  {
   "cell_type": "code",
   "execution_count": 25,
   "id": "92b48873-80a0-442e-89b6-1800354eea5f",
   "metadata": {},
   "outputs": [],
   "source": [
    "input_image_resize = input_image_resize/255"
   ]
  },
  {
   "cell_type": "code",
   "execution_count": 26,
   "id": "56752123-2065-405f-92f8-be4eec4dfa84",
   "metadata": {},
   "outputs": [],
   "source": [
    "image_reshaped = np.reshape(input_image_resize, [1,28,28])"
   ]
  },
  {
   "cell_type": "code",
   "execution_count": 27,
   "id": "b2db0722-8126-428e-ba2e-2dc3728503dd",
   "metadata": {},
   "outputs": [
    {
     "name": "stdout",
     "output_type": "stream",
     "text": [
      "1/1 [==============================] - 0s 6ms/step\n",
      "[[1.7659687e-14 4.6504414e-05 2.6148919e-07 1.0000000e+00 7.7305876e-23\n",
      "  4.1481379e-02 2.3377145e-24 5.4029775e-01 2.6415510e-03 9.9936372e-01]]\n"
     ]
    }
   ],
   "source": [
    "input_prediction = model.predict(image_reshaped)\n",
    "print(input_prediction)"
   ]
  },
  {
   "cell_type": "code",
   "execution_count": 28,
   "id": "6bbc8691-08a4-4acb-a5e9-4babfdb8df50",
   "metadata": {},
   "outputs": [
    {
     "data": {
      "text/plain": [
       "3"
      ]
     },
     "execution_count": 28,
     "metadata": {},
     "output_type": "execute_result"
    }
   ],
   "source": [
    "input_pred_label = np.argmax(input_prediction)\n",
    "input_pred_label\n"
   ]
  },
  {
   "cell_type": "code",
   "execution_count": null,
   "id": "b369d579-675f-4baf-9aaf-2e8639667ba7",
   "metadata": {},
   "outputs": [],
   "source": []
  },
  {
   "cell_type": "code",
   "execution_count": null,
   "id": "86b2e8f6-7133-4177-a081-8332f6030bae",
   "metadata": {},
   "outputs": [],
   "source": [
    "\n"
   ]
  },
  {
   "cell_type": "code",
   "execution_count": null,
   "id": "860142e7-d327-48df-aa44-75197e7389e0",
   "metadata": {},
   "outputs": [],
   "source": []
  },
  {
   "cell_type": "code",
   "execution_count": null,
   "id": "079897f5-ac1d-49c8-8231-b04cb2ea2b1a",
   "metadata": {},
   "outputs": [],
   "source": []
  },
  {
   "cell_type": "code",
   "execution_count": null,
   "id": "e663d7e4-74fd-4feb-b3b2-c7f79d9d3f3b",
   "metadata": {},
   "outputs": [],
   "source": [
    "\n",
    "\n"
   ]
  },
  {
   "cell_type": "code",
   "execution_count": null,
   "id": "cf3b9caf-d324-437c-a888-bb2c24581772",
   "metadata": {},
   "outputs": [],
   "source": [
    "\n"
   ]
  },
  {
   "cell_type": "code",
   "execution_count": null,
   "id": "694797cd-77ae-4c0c-8682-7bd2995764c8",
   "metadata": {},
   "outputs": [],
   "source": []
  }
 ],
 "metadata": {
  "kernelspec": {
   "display_name": "imageClass",
   "language": "python",
   "name": "imageclass"
  },
  "language_info": {
   "codemirror_mode": {
    "name": "ipython",
    "version": 3
   },
   "file_extension": ".py",
   "mimetype": "text/x-python",
   "name": "python",
   "nbconvert_exporter": "python",
   "pygments_lexer": "ipython3",
   "version": "3.10.9"
  }
 },
 "nbformat": 4,
 "nbformat_minor": 5
}
